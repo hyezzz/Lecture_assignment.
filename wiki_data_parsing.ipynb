{
  "nbformat": 4,
  "nbformat_minor": 0,
  "metadata": {
    "colab": {
      "name": "wiki_data_parsing",
      "provenance": [],
      "mount_file_id": "1tvUlvedUfO_XZFsnoDJEr-6trqB0MHTW",
      "authorship_tag": "ABX9TyOn6fz+9lCj7ir3A8RSMlL2",
      "include_colab_link": true
    },
    "kernelspec": {
      "name": "python3",
      "display_name": "Python 3"
    },
    "language_info": {
      "name": "python"
    }
  },
  "cells": [
    {
      "cell_type": "markdown",
      "metadata": {
        "id": "view-in-github",
        "colab_type": "text"
      },
      "source": [
        "<a href=\"https://colab.research.google.com/github/hyezzz/Seq2Seq-ChatBot/blob/main/wiki_data_parsing.ipynb\" target=\"_parent\"><img src=\"https://colab.research.google.com/assets/colab-badge.svg\" alt=\"Open In Colab\"/></a>"
      ]
    },
    {
      "cell_type": "markdown",
      "metadata": {
        "id": "Cv24n-bvrl4-"
      },
      "source": [
        "# Wiki data Parsing 하는 법"
      ]
    },
    {
      "cell_type": "code",
      "metadata": {
        "colab": {
          "base_uri": "https://localhost:8080/"
        },
        "id": "cs4UtunQnnaF",
        "outputId": "df3829d4-fe71-4d3b-83ad-110861225a4b"
      },
      "source": [
        "!wget https://dumps.wikimedia.org/kowiki/latest/kowiki-latest-pages-articles.xml.bz2"
      ],
      "execution_count": 1,
      "outputs": [
        {
          "output_type": "stream",
          "text": [
            "--2021-07-01 05:52:14--  https://dumps.wikimedia.org/kowiki/latest/kowiki-latest-pages-articles.xml.bz2\n",
            "Resolving dumps.wikimedia.org (dumps.wikimedia.org)... 208.80.154.7, 2620:0:861:1:208:80:154:7\n",
            "Connecting to dumps.wikimedia.org (dumps.wikimedia.org)|208.80.154.7|:443... connected.\n",
            "HTTP request sent, awaiting response... 200 OK\n",
            "Length: 761202468 (726M) [application/octet-stream]\n",
            "Saving to: ‘kowiki-latest-pages-articles.xml.bz2’\n",
            "\n",
            "kowiki-latest-pages 100%[===================>] 725.94M  4.52MB/s    in 2m 43s  \n",
            "\n",
            "2021-07-01 05:54:57 (4.46 MB/s) - ‘kowiki-latest-pages-articles.xml.bz2’ saved [761202468/761202468]\n",
            "\n"
          ],
          "name": "stdout"
        }
      ]
    },
    {
      "cell_type": "code",
      "metadata": {
        "colab": {
          "base_uri": "https://localhost:8080/"
        },
        "id": "7F9ufrvioLZO",
        "outputId": "73c32300-a213-45c1-e439-b53c991eaef8"
      },
      "source": [
        "!git clone \"https://github.com/attardi/wikiextractor.git\""
      ],
      "execution_count": 3,
      "outputs": [
        {
          "output_type": "stream",
          "text": [
            "fatal: destination path 'wikiextractor' already exists and is not an empty directory.\n"
          ],
          "name": "stdout"
        }
      ]
    },
    {
      "cell_type": "code",
      "metadata": {
        "colab": {
          "base_uri": "https://localhost:8080/",
          "height": 35
        },
        "id": "uGLFqCBiozW0",
        "outputId": "b46a7083-7034-4eef-c504-358a741d69af"
      },
      "source": [
        "import os\n",
        "#os.chdir('wikiextractor/wikiextractor')\n",
        "os.getcwd()"
      ],
      "execution_count": 10,
      "outputs": [
        {
          "output_type": "execute_result",
          "data": {
            "application/vnd.google.colaboratory.intrinsic+json": {
              "type": "string"
            },
            "text/plain": [
              "'/content/wikiextractor/wikiextractor'"
            ]
          },
          "metadata": {
            "tags": []
          },
          "execution_count": 10
        }
      ]
    },
    {
      "cell_type": "code",
      "metadata": {
        "colab": {
          "base_uri": "https://localhost:8080/"
        },
        "id": "1KRjLC_souXS",
        "outputId": "c99167c8-9753-4244-eb33-65a0d9f99499"
      },
      "source": [
        "!python WikiExtractor.py kowiki-latest-pages-articles.xml.bz2"
      ],
      "execution_count": null,
      "outputs": [
        {
          "output_type": "stream",
          "text": [
            "INFO: Preprocessing 'kowiki-latest-pages-articles.xml.bz2' to collect template definitions: this may take some time.\n",
            "INFO: Preprocessed 100000 pages\n",
            "INFO: Preprocessed 200000 pages\n",
            "INFO: Preprocessed 300000 pages\n",
            "INFO: Preprocessed 400000 pages\n",
            "INFO: Preprocessed 500000 pages\n",
            "INFO: Preprocessed 600000 pages\n",
            "INFO: Preprocessed 700000 pages\n",
            "INFO: Preprocessed 800000 pages\n",
            "INFO: Preprocessed 900000 pages\n",
            "INFO: Preprocessed 1000000 pages\n",
            "INFO: Preprocessed 1100000 pages\n",
            "INFO: Preprocessed 1200000 pages\n",
            "INFO: Preprocessed 1300000 pages\n",
            "INFO: Preprocessed 1400000 pages\n",
            "INFO: Preprocessed 1500000 pages\n",
            "INFO: Preprocessed 1600000 pages\n",
            "INFO: Loaded 56035 templates in 346.9s\n",
            "INFO: Starting page extraction from kowiki-latest-pages-articles.xml.bz2.\n",
            "INFO: Using 1 extract processes.\n",
            "INFO: Extracted 100000 articles (743.7 art/s)\n",
            "INFO: Extracted 200000 articles (1055.1 art/s)\n",
            "INFO: Extracted 300000 articles (1184.5 art/s)\n"
          ],
          "name": "stdout"
        }
      ]
    }
  ]
}